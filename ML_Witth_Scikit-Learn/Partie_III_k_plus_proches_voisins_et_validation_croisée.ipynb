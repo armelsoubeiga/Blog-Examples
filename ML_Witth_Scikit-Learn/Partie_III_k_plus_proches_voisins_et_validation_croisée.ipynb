{
 "cells": [
  {
   "cell_type": "markdown",
   "metadata": {},
   "source": [
    "# MACHINE LEARNING WITH SCIKIT-LEARN\n",
    "\n",
    "# Partie III : $k$ plus proches voisins ($k$-means) & validation croisée\n",
    "\n",
    "Dans cette partie III nous allons apprendre à manipuler : \n",
    "1. la classe **KNeighborsClassifier** qui permet de réaliser de la classification par la méthode des $k$ plus proches voisins ou $k$-means , \n",
    "2. les fonctions **cross_val_score**  et **cross_val_predict** qui permettent de réaliser des expériences de validation croisée.\n",
    "\n",
    "Dans les parties I et II de cette chaine d'articles, nous avons abordé respectivement les régressions linéaires et polynomiales et l'analyse en composante principale (ACP) que je vous conseille à y regarder.\n",
    "\n",
    "Nous travaillerons pour cela sur le jeu de données **breast cancer** que l'on peut [charger à partir de scikit-learn](http://scikit-learn.org/stable/modules/generated/sklearn.datasets.load_breast_cancer.html#sklearn.datasets.load_breast_cancer) et dont on trouve un descriptif sur le [site de l'UCI](https://archive.ics.uci.edu/ml/datasets/Breast+Cancer+Wisconsin+(Diagnostic).\n",
    "\n",
    "Nous apprendrons également l'importance de standardiser les descripteurs avec les $k$ plus proches voisins."
   ]
  },
  {
   "cell_type": "markdown",
   "metadata": {},
   "source": [
    "## 1. Charger le jeu de données en utilisant la fonction *load_breast_cancer*  du module *datasets*. En extraire le nombre d'observations et de descripteurs disponibles et représenter sous la forme d'un diagramme en bâton (barplot) les effectifs par classe. \n",
    "\n",
    "Pour représenter les effectifs on pourra par exemple s'appuyer sur la fonction [*bincount*](https://docs.scipy.org/doc/numpy/reference/generated/numpy.bincount.html) du package NumPy et sur la fonction [*bar*](https://matplotlib.org/devdocs/api/_as_gen/matplotlib.pyplot.bar.html) du package MatPlotlib."
   ]
  },
  {
   "cell_type": "code",
   "execution_count": 1,
   "metadata": {},
   "outputs": [],
   "source": [
    "# generic imports #\n",
    "#-----------------#\n",
    "import numpy as np\n",
    "import matplotlib\n",
    "import matplotlib.pyplot as plt"
   ]
  },
  {
   "cell_type": "code",
   "execution_count": 2,
   "metadata": {},
   "outputs": [
    {
     "name": "stdout",
     "output_type": "stream",
     "text": [
      ".. _breast_cancer_dataset:\n",
      "\n",
      "Breast cancer wisconsin (diagnostic) dataset\n",
      "--------------------------------------------\n",
      "\n",
      "**Data Set Characteristics:**\n",
      "\n",
      "    :Number of Instances: 569\n",
      "\n",
      "    :Number of Attributes: 30 numeric, predictive attributes and the class\n",
      "\n",
      "    :Attribute Information:\n",
      "        - radius (mean of distances from center to points on the perimeter)\n",
      "        - texture (standard deviation of gray-scale values)\n",
      "        - perimeter\n",
      "        - area\n",
      "        - smoothness (local variation in radius lengths)\n",
      "        - compactness (perimeter^2 / area - 1.0)\n",
      "        - concavity (severity of concave portions of the contour)\n",
      "        - concave points (number of concave portions of the contour)\n",
      "        - symmetry \n",
      "        - fractal dimension (\"coastline approximation\" - 1)\n",
      "\n",
      "        The mean, standard error, and \"worst\" or largest (mean of the three\n",
      "        largest values) of these features were computed for each image,\n",
      "        resulting in 30 features.  For instance, field 3 is Mean Radius, field\n",
      "        13 is Radius SE, field 23 is Worst Radius.\n",
      "\n",
      "        - class:\n",
      "                - WDBC-Malignant\n",
      "                - WDBC-Benign\n",
      "\n",
      "    :Summary Statistics:\n",
      "\n",
      "    ===================================== ====== ======\n",
      "                                           Min    Max\n",
      "    ===================================== ====== ======\n",
      "    radius (mean):                        6.981  28.11\n",
      "    texture (mean):                       9.71   39.28\n",
      "    perimeter (mean):                     43.79  188.5\n",
      "    area (mean):                          143.5  2501.0\n",
      "    smoothness (mean):                    0.053  0.163\n",
      "    compactness (mean):                   0.019  0.345\n",
      "    concavity (mean):                     0.0    0.427\n",
      "    concave points (mean):                0.0    0.201\n",
      "    symmetry (mean):                      0.106  0.304\n",
      "    fractal dimension (mean):             0.05   0.097\n",
      "    radius (standard error):              0.112  2.873\n",
      "    texture (standard error):             0.36   4.885\n",
      "    perimeter (standard error):           0.757  21.98\n",
      "    area (standard error):                6.802  542.2\n",
      "    smoothness (standard error):          0.002  0.031\n",
      "    compactness (standard error):         0.002  0.135\n",
      "    concavity (standard error):           0.0    0.396\n",
      "    concave points (standard error):      0.0    0.053\n",
      "    symmetry (standard error):            0.008  0.079\n",
      "    fractal dimension (standard error):   0.001  0.03\n",
      "    radius (worst):                       7.93   36.04\n",
      "    texture (worst):                      12.02  49.54\n",
      "    perimeter (worst):                    50.41  251.2\n",
      "    area (worst):                         185.2  4254.0\n",
      "    smoothness (worst):                   0.071  0.223\n",
      "    compactness (worst):                  0.027  1.058\n",
      "    concavity (worst):                    0.0    1.252\n",
      "    concave points (worst):               0.0    0.291\n",
      "    symmetry (worst):                     0.156  0.664\n",
      "    fractal dimension (worst):            0.055  0.208\n",
      "    ===================================== ====== ======\n",
      "\n",
      "    :Missing Attribute Values: None\n",
      "\n",
      "    :Class Distribution: 212 - Malignant, 357 - Benign\n",
      "\n",
      "    :Creator:  Dr. William H. Wolberg, W. Nick Street, Olvi L. Mangasarian\n",
      "\n",
      "    :Donor: Nick Street\n",
      "\n",
      "    :Date: November, 1995\n",
      "\n",
      "This is a copy of UCI ML Breast Cancer Wisconsin (Diagnostic) datasets.\n",
      "https://goo.gl/U2Uwz2\n",
      "\n",
      "Features are computed from a digitized image of a fine needle\n",
      "aspirate (FNA) of a breast mass.  They describe\n",
      "characteristics of the cell nuclei present in the image.\n",
      "\n",
      "Separating plane described above was obtained using\n",
      "Multisurface Method-Tree (MSM-T) [K. P. Bennett, \"Decision Tree\n",
      "Construction Via Linear Programming.\" Proceedings of the 4th\n",
      "Midwest Artificial Intelligence and Cognitive Science Society,\n",
      "pp. 97-101, 1992], a classification method which uses linear\n",
      "programming to construct a decision tree.  Relevant features\n",
      "were selected using an exhaustive search in the space of 1-4\n",
      "features and 1-3 separating planes.\n",
      "\n",
      "The actual linear program used to obtain the separating plane\n",
      "in the 3-dimensional space is that described in:\n",
      "[K. P. Bennett and O. L. Mangasarian: \"Robust Linear\n",
      "Programming Discrimination of Two Linearly Inseparable Sets\",\n",
      "Optimization Methods and Software 1, 1992, 23-34].\n",
      "\n",
      "This database is also available through the UW CS ftp server:\n",
      "\n",
      "ftp ftp.cs.wisc.edu\n",
      "cd math-prog/cpo-dataset/machine-learn/WDBC/\n",
      "\n",
      ".. topic:: References\n",
      "\n",
      "   - W.N. Street, W.H. Wolberg and O.L. Mangasarian. Nuclear feature extraction \n",
      "     for breast tumor diagnosis. IS&T/SPIE 1993 International Symposium on \n",
      "     Electronic Imaging: Science and Technology, volume 1905, pages 861-870,\n",
      "     San Jose, CA, 1993.\n",
      "   - O.L. Mangasarian, W.N. Street and W.H. Wolberg. Breast cancer diagnosis and \n",
      "     prognosis via linear programming. Operations Research, 43(4), pages 570-577, \n",
      "     July-August 1995.\n",
      "   - W.H. Wolberg, W.N. Street, and O.L. Mangasarian. Machine learning techniques\n",
      "     to diagnose breast cancer from fine-needle aspirates. Cancer Letters 77 (1994) \n",
      "     163-171.\n",
      "load dataset of size 569 x 30 involving 2 classes\n"
     ]
    }
   ],
   "source": [
    "# load dataset #\n",
    "#--------------#\n",
    "from sklearn.datasets import load_breast_cancer\n",
    "db = load_breast_cancer()\n",
    "print(db.DESCR)\n",
    "X = db.data\n",
    "y = db.target\n",
    "class_ids = db.target_names\n",
    "n = X.shape[0]\n",
    "p = X.shape[1]\n",
    "K = len(class_ids)\n",
    "print('load dataset of size %d x %d involving %d classes' % (n,p,K))"
   ]
  },
  {
   "cell_type": "code",
   "execution_count": 3,
   "metadata": {},
   "outputs": [
    {
     "data": {
      "image/png": "[encoded data removed]",
      "text/plain": [
       "<Figure size 432x288 with 1 Axes>"
      ]
     },
     "metadata": {
      "needs_background": "light"
     },
     "output_type": "display_data"
    }
   ],
   "source": [
    "# show dataset constitution #\n",
    "#---------------------------#\n",
    "counts = np.bincount(y)\n",
    "plt.bar(range(K), counts)\n",
    "plt.ylabel('number of instances')\n",
    "plt.title('dataset constitution')\n",
    "plt.xticks(range(K), class_ids)\n",
    "plt.show()"
   ]
  },
  {
   "cell_type": "markdown",
   "metadata": {},
   "source": [
    "## 2. Estimer les performances de classification de l'algorithme des $k$-means par validation croisée pour $k \\in \\{1,3,5,7\\}$ et en considérant  10 folds. Quel est l'intérêt d'utiliser un nombre impair de voisins ?\n",
    "\n",
    "on utilisera pour cela la classe [*KNeighborsClassifier*](http://scikit-learn.org/stable/modules/generated/sklearn.neighbors.KNeighborsClassifier.html) du module *neighbors* et la fonction [*cross_val_score*](http://scikit-learn.org/stable/modules/generated/sklearn.model_selection.cross_val_score.html#sklearn.model_selection.cross_val_score) du module *model_selection*."
   ]
  },
  {
   "cell_type": "code",
   "execution_count": 8,
   "metadata": {},
   "outputs": [
    {
     "name": "stdout",
     "output_type": "stream",
     "text": [
      "[array([0.93103448, 0.84482759, 0.92982456, 0.92982456, 0.9122807 ,\n",
      "       0.89473684, 0.92982456, 0.94642857, 0.89285714, 0.94642857]), array([0.9137931 , 0.86206897, 0.89473684, 0.94736842, 0.94736842,\n",
      "       0.94736842, 0.96491228, 0.94642857, 0.91071429, 0.92857143]), array([0.9137931 , 0.87931034, 0.89473684, 0.96491228, 0.94736842,\n",
      "       0.92982456, 0.96491228, 0.92857143, 0.91071429, 0.96428571]), array([0.93103448, 0.86206897, 0.9122807 , 0.96491228, 0.92982456,\n",
      "       0.92982456, 0.96491228, 0.92857143, 0.91071429, 0.94642857])]\n"
     ]
    }
   ],
   "source": [
    "# carry out cross-validation using cross_val_score #\n",
    "#--------------------------------------------------#\n",
    "from sklearn.model_selection import cross_val_score\n",
    "from sklearn.neighbors import KNeighborsClassifier\n",
    "\n",
    "k_list = [1,3,5,7]\n",
    "res = []\n",
    "\n",
    "for i in range(len(k_list)):\n",
    "    knn = KNeighborsClassifier(n_neighbors=k_list[i])\n",
    "    res.append(cross_val_score(knn, X, y, cv = 10) )\n",
    "    \n",
    "# results\n",
    "print(res)\n",
    "    "
   ]
  },
  {
   "cell_type": "markdown",
   "metadata": {},
   "source": [
    "##  3. La fonction *cross_val_score* calcule la performance de prédiction obtenue dans les différentes folds. Représenter par un \"boxplot\" la distribution des performances obtenues par fold pour les différentes valeurs de $k$, et sélectionner la valeur de $k$ conduisant à la meilleure performance médiane.\n",
    "\n",
    "On pourra s'appuyer sur la fonction [*boxplot*](https://matplotlib.org/devdocs/api/_as_gen/matplotlib.pyplot.boxplot.html#matplotlib.pyplot.boxplot) du package MatplotLib. Elle permet de tracer sur un même graphique plusieurs boxplot à partir d'une matrice ou d'une liste."
   ]
  },
  {
   "cell_type": "code",
   "execution_count": 9,
   "metadata": {},
   "outputs": [
    {
     "data": {
      "image/png": "[encoded data removed]",
      "text/plain": [
       "<Figure size 432x288 with 1 Axes>"
      ]
     },
     "metadata": {
      "needs_background": "light"
     },
     "output_type": "display_data"
    },
    {
     "name": "stdout",
     "output_type": "stream",
     "text": [
      "best k value obtained = 3\n"
     ]
    }
   ],
   "source": [
    "# compare performance obtained #\n",
    "#------------------------------#\n",
    "plt.boxplot(res, labels = k_list)\n",
    "plt.title('fold-level accuracy vs k value')\n",
    "plt.show()\n",
    "# select optimal k value #\n",
    "#------------------------#\n",
    "ind_best = np.argmax( np.median(res, 1) )\n",
    "k_best = k_list[ind_best]\n",
    "print('best k value obtained = %d' % k_best)"
   ]
  },
  {
   "cell_type": "markdown",
   "metadata": {},
   "source": [
    "## 4. Pour avoir une vision plus détaillée des résultats de classification il peut-être intéressant de calculer une matrice de confusion. La fonction [*cross_val_predict*](http://scikit-learn.org/stable/modules/generated/sklearn.model_selection.cross_val_predict.html) du module *model_selection* permet de réaliser une expérience de validation croisée en fournissant les prédictions \"brutes\" plutôt qu'une mesure de performance de classification. \n",
    "\n",
    "Utiliser cette fonction pour la valeur de $k$ retenue précédemment et calculer la matrice de confusion obtenue en utilisant la fonction [*confusion_matrix*](http://scikit-learn.org/stable/modules/generated/sklearn.metrics.confusion_matrix.html) du module *metrics*. Utilisez la fonction [*classification_report*](http://scikit-learn.org/stable/modules/generated/sklearn.metrics.classification_report.html) du module *metrics* pour calculer les indicateurs usuels que l'on peut déduire de cette matrice de confusion."
   ]
  },
  {
   "cell_type": "code",
   "execution_count": 10,
   "metadata": {},
   "outputs": [
    {
     "name": "stdout",
     "output_type": "stream",
     "text": [
      "[[185  27]\n",
      " [ 15 342]]\n",
      "              precision    recall  f1-score   support\n",
      "\n",
      "           0       0.93      0.87      0.90       212\n",
      "           1       0.93      0.96      0.94       357\n",
      "\n",
      "    accuracy                           0.93       569\n",
      "   macro avg       0.93      0.92      0.92       569\n",
      "weighted avg       0.93      0.93      0.93       569\n",
      "\n"
     ]
    }
   ],
   "source": [
    "# get cross-validation predictions & show confusion matrix #\n",
    "#----------------------------------------------------------#\n",
    "# get predictions\n",
    "from sklearn.model_selection import cross_val_predict\n",
    "knn = KNeighborsClassifier(n_neighbors=k_best)\n",
    "cv_preds = cross_val_predict(knn, X, y, cv = 10)\n",
    "# compute confusion matrix\n",
    "from sklearn.metrics import confusion_matrix\n",
    "print(confusion_matrix(y, cv_preds))\n",
    "# show \"classification report\"\n",
    "from sklearn.metrics import classification_report\n",
    "print(classification_report(y, cv_preds))"
   ]
  },
  {
   "cell_type": "markdown",
   "metadata": {},
   "source": [
    "## 5. Reprendre cette analyse en standardisant au préalable les descripteurs\n",
    "\n",
    "On pourra par exemple utiliser la classe [*StandardScaler*](http://scikit-learn.org/stable/modules/generated/sklearn.preprocessing.StandardScaler.html) du module *preprocessing* pour standardiser les descripteurs.\n"
   ]
  },
  {
   "cell_type": "code",
   "execution_count": 11,
   "metadata": {},
   "outputs": [
    {
     "name": "stdout",
     "output_type": "stream",
     "text": [
      "[[197  15]\n",
      " [  4 353]]\n",
      "              precision    recall  f1-score   support\n",
      "\n",
      "           0       0.98      0.93      0.95       212\n",
      "           1       0.96      0.99      0.97       357\n",
      "\n",
      "    accuracy                           0.97       569\n",
      "   macro avg       0.97      0.96      0.96       569\n",
      "weighted avg       0.97      0.97      0.97       569\n",
      "\n"
     ]
    }
   ],
   "source": [
    "# do the same from scaled data #\n",
    "#------------------------------#\n",
    "# scale data\n",
    "from sklearn.preprocessing import StandardScaler\n",
    "scaler = StandardScaler()\n",
    "X_norm = scaler.fit_transform(X)\n",
    "# carry out cross-validation\n",
    "res_scale = []\n",
    "for i in range(len(k_list)):\n",
    "    knn = KNeighborsClassifier(n_neighbors=k_list[i])\n",
    "    res_scale.append( cross_val_score(knn, X_norm, y, cv = 10) )\n",
    "# pick best model\n",
    "ind_best = np.argmax(np.median(res_scale,1))\n",
    "k_best = k_list[ind_best]\n",
    "knn = KNeighborsClassifier(n_neighbors=k_best)\n",
    "# get predictions\n",
    "cv_preds = cross_val_predict(knn, X_norm, y, cv = 10)\n",
    "# show results\n",
    "print(confusion_matrix(y, cv_preds))\n",
    "print(classification_report(y, cv_preds))\n"
   ]
  }
 ],
 "metadata": {
  "kernelspec": {
   "display_name": "Python 3",
   "language": "python",
   "name": "python3"
  },
  "language_info": {
   "codemirror_mode": {
    "name": "ipython",
    "version": 3
   },
   "file_extension": ".py",
   "mimetype": "text/x-python",
   "name": "python",
   "nbconvert_exporter": "python",
   "pygments_lexer": "ipython3",
   "version": "3.7.4"
  }
 },
 "nbformat": 4,
 "nbformat_minor": 2
}
